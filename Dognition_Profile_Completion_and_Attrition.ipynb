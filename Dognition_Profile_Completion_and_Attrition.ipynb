{
 "cells": [
  {
   "cell_type": "markdown",
   "metadata": {},
   "source": [
    "# Dognition User Activity and Profile Completion\n",
    "\n",
    "Dognition provides dog owners with insight into how their pet's mind works using a series of 20 games that test different aspects of dog behavior. The results of the games are analyzed to determine which of six personality types describes the dog. In addition, a unique profile report looks in-depth at the dog's cognitive style. The data used here comes from a Coursera MOOC, Managing Big Data with MySQL, by Duke University. This notebook builds on work done in that course. The queries below look at user engagement and attrition. For more information on Dognition, visit www.dognition.com."
   ]
  },
  {
   "cell_type": "markdown",
   "metadata": {},
   "source": [
    "### Time period covered by game data "
   ]
  },
  {
   "cell_type": "code",
   "execution_count": 21,
   "metadata": {
    "collapsed": false
   },
   "outputs": [
    {
     "name": "stdout",
     "output_type": "stream",
     "text": [
      "1 rows affected.\n"
     ]
    },
    {
     "data": {
      "text/html": [
       "<table>\n",
       "    <tr>\n",
       "        <th>Start</th>\n",
       "        <th>End</th>\n",
       "        <th>DaysOfData</th>\n",
       "    </tr>\n",
       "    <tr>\n",
       "        <td>2013-02-05 18:26:54</td>\n",
       "        <td>2015-10-12 22:20:32</td>\n",
       "        <td>980</td>\n",
       "    </tr>\n",
       "</table>"
      ],
      "text/plain": [
       "[(datetime.datetime(2013, 2, 5, 18, 26, 54), datetime.datetime(2015, 10, 12, 22, 20, 32), 980)]"
      ]
     },
     "execution_count": 21,
     "metadata": {},
     "output_type": "execute_result"
    }
   ],
   "source": [
    "%%sql\n",
    "\n",
    "SELECT \n",
    "    MIN(created_at) AS Start, \n",
    "    MAX(created_at) AS End, \n",
    "    TIMESTAMPDIFF(DAY, MIN(created_at), MAX(created_at)) + 1 AS DaysOfData\n",
    "FROM\n",
    "    complete_tests; "
   ]
  },
  {
   "cell_type": "markdown",
   "metadata": {},
   "source": [
    "### Total number of individual dog records  \n",
    "List of dog ids and user ids where neither the dog nor the user is marked for exclusion from analysis."
   ]
  },
  {
   "cell_type": "code",
   "execution_count": 22,
   "metadata": {
    "collapsed": false
   },
   "outputs": [
    {
     "name": "stdout",
     "output_type": "stream",
     "text": [
      "10 rows affected.\n"
     ]
    },
    {
     "data": {
      "text/html": [
       "<table>\n",
       "    <tr>\n",
       "        <th>DogID</th>\n",
       "        <th>UserID</th>\n",
       "    </tr>\n",
       "    <tr>\n",
       "        <td>fd27b272-7144-11e5-ba71-058fbc01cf0b</td>\n",
       "        <td>ce134e42-7144-11e5-ba71-058fbc01cf0b</td>\n",
       "    </tr>\n",
       "    <tr>\n",
       "        <td>fd417cac-7144-11e5-ba71-058fbc01cf0b</td>\n",
       "        <td>ce134e42-7144-11e5-ba71-058fbc01cf0b</td>\n",
       "    </tr>\n",
       "    <tr>\n",
       "        <td>fd27b5ba-7144-11e5-ba71-058fbc01cf0b</td>\n",
       "        <td>ce1353d8-7144-11e5-ba71-058fbc01cf0b</td>\n",
       "    </tr>\n",
       "    <tr>\n",
       "        <td>fd3fb0f2-7144-11e5-ba71-058fbc01cf0b</td>\n",
       "        <td>ce1353d8-7144-11e5-ba71-058fbc01cf0b</td>\n",
       "    </tr>\n",
       "    <tr>\n",
       "        <td>fd27b6b4-7144-11e5-ba71-058fbc01cf0b</td>\n",
       "        <td>ce135ab8-7144-11e5-ba71-058fbc01cf0b</td>\n",
       "    </tr>\n",
       "    <tr>\n",
       "        <td>fd27b79a-7144-11e5-ba71-058fbc01cf0b</td>\n",
       "        <td>ce13507c-7144-11e5-ba71-058fbc01cf0b</td>\n",
       "    </tr>\n",
       "    <tr>\n",
       "        <td>fd27b948-7144-11e5-ba71-058fbc01cf0b</td>\n",
       "        <td>ce13615c-7144-11e5-ba71-058fbc01cf0b</td>\n",
       "    </tr>\n",
       "    <tr>\n",
       "        <td>fd27bbbe-7144-11e5-ba71-058fbc01cf0b</td>\n",
       "        <td>ce135f2c-7144-11e5-ba71-058fbc01cf0b</td>\n",
       "    </tr>\n",
       "    <tr>\n",
       "        <td>fd27c1c2-7144-11e5-ba71-058fbc01cf0b</td>\n",
       "        <td>ce136a1c-7144-11e5-ba71-058fbc01cf0b</td>\n",
       "    </tr>\n",
       "    <tr>\n",
       "        <td>fd27c0fa-7144-11e5-ba71-058fbc01cf0b</td>\n",
       "        <td>ce136a1c-7144-11e5-ba71-058fbc01cf0b</td>\n",
       "    </tr>\n",
       "</table>"
      ],
      "text/plain": [
       "[('fd27b272-7144-11e5-ba71-058fbc01cf0b', 'ce134e42-7144-11e5-ba71-058fbc01cf0b'),\n",
       " ('fd417cac-7144-11e5-ba71-058fbc01cf0b', 'ce134e42-7144-11e5-ba71-058fbc01cf0b'),\n",
       " ('fd27b5ba-7144-11e5-ba71-058fbc01cf0b', 'ce1353d8-7144-11e5-ba71-058fbc01cf0b'),\n",
       " ('fd3fb0f2-7144-11e5-ba71-058fbc01cf0b', 'ce1353d8-7144-11e5-ba71-058fbc01cf0b'),\n",
       " ('fd27b6b4-7144-11e5-ba71-058fbc01cf0b', 'ce135ab8-7144-11e5-ba71-058fbc01cf0b'),\n",
       " ('fd27b79a-7144-11e5-ba71-058fbc01cf0b', 'ce13507c-7144-11e5-ba71-058fbc01cf0b'),\n",
       " ('fd27b948-7144-11e5-ba71-058fbc01cf0b', 'ce13615c-7144-11e5-ba71-058fbc01cf0b'),\n",
       " ('fd27bbbe-7144-11e5-ba71-058fbc01cf0b', 'ce135f2c-7144-11e5-ba71-058fbc01cf0b'),\n",
       " ('fd27c1c2-7144-11e5-ba71-058fbc01cf0b', 'ce136a1c-7144-11e5-ba71-058fbc01cf0b'),\n",
       " ('fd27c0fa-7144-11e5-ba71-058fbc01cf0b', 'ce136a1c-7144-11e5-ba71-058fbc01cf0b')]"
      ]
     },
     "execution_count": 22,
     "metadata": {},
     "output_type": "execute_result"
    }
   ],
   "source": [
    "%%sql\n",
    "\n",
    "SELECT\n",
    "        DISTINCT(d.dog_guid) AS DogID, \n",
    "        d.user_guid AS UserID\n",
    "FROM \n",
    "        dogs d\n",
    "            LEFT JOIN users u \n",
    "                ON d.user_guid = u.user_guid\n",
    "WHERE \n",
    "        ((d.exclude = 0 OR d.exclude IS NULL) \n",
    "             AND \n",
    "        (u.exclude = 0 OR u.exclude IS NULL)\n",
    "             AND \n",
    "        u.user_guid IS NOT NULL)\n",
    "LIMIT 10;  "
   ]
  },
  {
   "cell_type": "markdown",
   "metadata": {},
   "source": [
    "### Number of dogs completing each assessment game\n",
    "How many dogs continue to each subsequent game and set of games? Do any games stand out as a dropping-out point?   "
   ]
  },
  {
   "cell_type": "code",
   "execution_count": 19,
   "metadata": {
    "collapsed": false,
    "scrolled": true
   },
   "outputs": [
    {
     "name": "stdout",
     "output_type": "stream",
     "text": [
      "20 rows affected.\n"
     ]
    },
    {
     "data": {
      "text/html": [
       "<table>\n",
       "    <tr>\n",
       "        <th>Test_Name</th>\n",
       "        <th>SubCat</th>\n",
       "        <th>TestCt</th>\n",
       "    </tr>\n",
       "    <tr>\n",
       "        <td>Yawn Warm-up</td>\n",
       "        <td>Empathy</td>\n",
       "        <td>16481</td>\n",
       "    </tr>\n",
       "    <tr>\n",
       "        <td>Yawn Game</td>\n",
       "        <td>Empathy</td>\n",
       "        <td>15418</td>\n",
       "    </tr>\n",
       "    <tr>\n",
       "        <td>Eye Contact Warm-up</td>\n",
       "        <td>Empathy</td>\n",
       "        <td>14096</td>\n",
       "    </tr>\n",
       "    <tr>\n",
       "        <td>Eye Contact Game</td>\n",
       "        <td>Empathy</td>\n",
       "        <td>13767</td>\n",
       "    </tr>\n",
       "    <tr>\n",
       "        <td>Treat Warm-up</td>\n",
       "        <td>Communication</td>\n",
       "        <td>9986</td>\n",
       "    </tr>\n",
       "    <tr>\n",
       "        <td>Arm Pointing</td>\n",
       "        <td>Communication</td>\n",
       "        <td>9645</td>\n",
       "    </tr>\n",
       "    <tr>\n",
       "        <td>Foot Pointing</td>\n",
       "        <td>Communication</td>\n",
       "        <td>9020</td>\n",
       "    </tr>\n",
       "    <tr>\n",
       "        <td>Watching</td>\n",
       "        <td>Cunning</td>\n",
       "        <td>6781</td>\n",
       "    </tr>\n",
       "    <tr>\n",
       "        <td>Turn Your Back</td>\n",
       "        <td>Cunning</td>\n",
       "        <td>6678</td>\n",
       "    </tr>\n",
       "    <tr>\n",
       "        <td>Cover Your Eyes</td>\n",
       "        <td>Cunning</td>\n",
       "        <td>6527</td>\n",
       "    </tr>\n",
       "    <tr>\n",
       "        <td>Watching - Part 2</td>\n",
       "        <td>Cunning</td>\n",
       "        <td>6421</td>\n",
       "    </tr>\n",
       "    <tr>\n",
       "        <td>One Cup Warm-up</td>\n",
       "        <td>Memory</td>\n",
       "        <td>5536</td>\n",
       "    </tr>\n",
       "    <tr>\n",
       "        <td>Two Cup Warm-up</td>\n",
       "        <td>Memory</td>\n",
       "        <td>5442</td>\n",
       "    </tr>\n",
       "    <tr>\n",
       "        <td>Memory versus Pointing</td>\n",
       "        <td>Memory</td>\n",
       "        <td>5302</td>\n",
       "    </tr>\n",
       "    <tr>\n",
       "        <td>Memory versus Smell</td>\n",
       "        <td>Memory</td>\n",
       "        <td>4910</td>\n",
       "    </tr>\n",
       "    <tr>\n",
       "        <td>Delayed Cup Game</td>\n",
       "        <td>Memory</td>\n",
       "        <td>4715</td>\n",
       "    </tr>\n",
       "    <tr>\n",
       "        <td>Inferential Reasoning Warm-up</td>\n",
       "        <td>Reasoning</td>\n",
       "        <td>3994</td>\n",
       "    </tr>\n",
       "    <tr>\n",
       "        <td>Inferential Reasoning Game</td>\n",
       "        <td>Reasoning</td>\n",
       "        <td>3897</td>\n",
       "    </tr>\n",
       "    <tr>\n",
       "        <td>Physical Reasoning Warm-up</td>\n",
       "        <td>Reasoning</td>\n",
       "        <td>3795</td>\n",
       "    </tr>\n",
       "    <tr>\n",
       "        <td>Physical Reasoning Game</td>\n",
       "        <td>Reasoning</td>\n",
       "        <td>3773</td>\n",
       "    </tr>\n",
       "</table>"
      ],
      "text/plain": [
       "[('Yawn Warm-up', 'Empathy', 16481),\n",
       " ('Yawn Game', 'Empathy', 15418),\n",
       " ('Eye Contact Warm-up', 'Empathy', 14096),\n",
       " ('Eye Contact Game', 'Empathy', 13767),\n",
       " ('Treat Warm-up', 'Communication', 9986),\n",
       " ('Arm Pointing', 'Communication', 9645),\n",
       " ('Foot Pointing', 'Communication', 9020),\n",
       " ('Watching', 'Cunning', 6781),\n",
       " ('Turn Your Back', 'Cunning', 6678),\n",
       " ('Cover Your Eyes', 'Cunning', 6527),\n",
       " ('Watching - Part 2', 'Cunning', 6421),\n",
       " ('One Cup Warm-up', 'Memory', 5536),\n",
       " ('Two Cup Warm-up', 'Memory', 5442),\n",
       " ('Memory versus Pointing', 'Memory', 5302),\n",
       " ('Memory versus Smell', 'Memory', 4910),\n",
       " ('Delayed Cup Game', 'Memory', 4715),\n",
       " ('Inferential Reasoning Warm-up', 'Reasoning', 3994),\n",
       " ('Inferential Reasoning Game', 'Reasoning', 3897),\n",
       " ('Physical Reasoning Warm-up', 'Reasoning', 3795),\n",
       " ('Physical Reasoning Game', 'Reasoning', 3773)]"
      ]
     },
     "execution_count": 19,
     "metadata": {},
     "output_type": "execute_result"
    }
   ],
   "source": [
    "%%sql\n",
    "\n",
    "SELECT TestNames.test_name AS Test_Name, TestNames.subcategory_name AS SubCat, COUNT(TestNames.test_name) AS TestCt\n",
    "FROM\n",
    "(SELECT \n",
    "        DISTINCT(d.dog_guid) AS dogid, \n",
    "        d.user_guid AS User, \n",
    "        c.subcategory_name, \n",
    "        c.test_name, \n",
    "        d.dimension, \n",
    "        d.created_at \n",
    "FROM \n",
    "        dogs d\n",
    "            LEFT JOIN users u \n",
    "                ON d.user_guid = u.user_guid\n",
    "            LEFT JOIN complete_tests c \n",
    "                ON c.dog_guid = d.dog_guid\n",
    "WHERE \n",
    "        ((d.exclude = 0 OR d.exclude IS NULL) \n",
    "             AND \n",
    "        (u.exclude = 0 OR u.exclude IS NULL)\n",
    "             AND\n",
    "        u.user_guid IS NOT NULL\n",
    "             AND\n",
    "        c.subcategory_name IN (\"Empathy\",\"Communication\",\"Cunning\",\"Memory\",\"Reasoning\"))) AS TestNames\n",
    "GROUP BY Test_Name\n",
    "ORDER BY TestCt DESC;"
   ]
  },
  {
   "cell_type": "markdown",
   "metadata": {},
   "source": [
    "### Registered only\n",
    "How many dogs that were registered didn't complete any activities? "
   ]
  },
  {
   "cell_type": "code",
   "execution_count": 14,
   "metadata": {
    "collapsed": false
   },
   "outputs": [
    {
     "name": "stdout",
     "output_type": "stream",
     "text": [
      "1 rows affected.\n"
     ]
    },
    {
     "data": {
      "text/html": [
       "<table>\n",
       "    <tr>\n",
       "        <th>Registered_Only</th>\n",
       "    </tr>\n",
       "    <tr>\n",
       "        <td>16963</td>\n",
       "    </tr>\n",
       "</table>"
      ],
      "text/plain": [
       "[(16963,)]"
      ]
     },
     "execution_count": 14,
     "metadata": {},
     "output_type": "execute_result"
    }
   ],
   "source": [
    "%%sql\n",
    "\n",
    "SELECT COUNT(TestNames.dogid) AS Registered_Only\n",
    "FROM\n",
    "(SELECT \n",
    "        DISTINCT(d.dog_guid) AS dogid, \n",
    "        d.user_guid AS User, \n",
    "        c.subcategory_name, \n",
    "        c.test_name, \n",
    "        d.dimension, \n",
    "        d.created_at \n",
    "FROM \n",
    "        dogs d\n",
    "            LEFT JOIN users u \n",
    "                ON d.user_guid = u.user_guid\n",
    "            LEFT JOIN complete_tests c \n",
    "                ON c.dog_guid = d.dog_guid\n",
    "WHERE \n",
    "        (d.exclude = 0 OR d.exclude IS NULL) \n",
    "             AND \n",
    "        (u.exclude = 0 OR u.exclude IS NULL)\n",
    "             AND\n",
    "        u.user_guid IS NOT NULL\n",
    "             AND\n",
    "        c.test_name IS NULL) AS TestNames;"
   ]
  },
  {
   "cell_type": "markdown",
   "metadata": {},
   "source": [
    "### Total dogs given a personality profile\n",
    "How many dogs complete enough games to create a profile? "
   ]
  },
  {
   "cell_type": "code",
   "execution_count": 15,
   "metadata": {
    "collapsed": false
   },
   "outputs": [
    {
     "name": "stdout",
     "output_type": "stream",
     "text": [
      "1 rows affected.\n"
     ]
    },
    {
     "data": {
      "text/html": [
       "<table>\n",
       "    <tr>\n",
       "        <th>Completers</th>\n",
       "    </tr>\n",
       "    <tr>\n",
       "        <td>3743</td>\n",
       "    </tr>\n",
       "</table>"
      ],
      "text/plain": [
       "[(3743,)]"
      ]
     },
     "execution_count": 15,
     "metadata": {},
     "output_type": "execute_result"
    }
   ],
   "source": [
    "%%sql\n",
    "\n",
    "SELECT \n",
    "       COUNT(tc.test_name) AS Completers\n",
    "FROM\n",
    "       (SELECT \n",
    "             DISTINCT(c.dog_guid), \n",
    "             d.user_guid, \n",
    "             d.dimension,\n",
    "             c.test_name\n",
    "       FROM dogs d\n",
    "             LEFT JOIN users u \n",
    "                ON d.user_guid = u.user_guid\n",
    "             LEFT JOIN complete_tests c \n",
    "                ON c.dog_guid = d.dog_guid     \n",
    "       WHERE \n",
    "             ((d.exclude = 0 OR d.exclude IS NULL) \n",
    "                AND \n",
    "             (u.exclude = 0 OR u.exclude IS NULL))  \n",
    "                AND\n",
    "             u.user_guid IS NOT NULL\n",
    "                AND\n",
    "             (d.dimension IS NOT NULL AND dimension <> \"\")\n",
    "       GROUP BY \n",
    "             c.dog_guid) AS tc;\n",
    "   "
   ]
  },
  {
   "cell_type": "markdown",
   "metadata": {},
   "source": [
    "### Completion time for assessment games\n",
    "Beginning with the first test, how quickly are those who finish completing all the games? "
   ]
  },
  {
   "cell_type": "code",
   "execution_count": 20,
   "metadata": {
    "collapsed": false
   },
   "outputs": [
    {
     "name": "stdout",
     "output_type": "stream",
     "text": [
      "8 rows affected.\n"
     ]
    },
    {
     "data": {
      "text/html": [
       "<table>\n",
       "    <tr>\n",
       "        <th>TimeToFinish</th>\n",
       "        <th>NrDogs</th>\n",
       "    </tr>\n",
       "    <tr>\n",
       "        <td>One Day</td>\n",
       "        <td>268</td>\n",
       "    </tr>\n",
       "    <tr>\n",
       "        <td>2-7 Days</td>\n",
       "        <td>1055</td>\n",
       "    </tr>\n",
       "    <tr>\n",
       "        <td>8-30 Days</td>\n",
       "        <td>1128</td>\n",
       "    </tr>\n",
       "    <tr>\n",
       "        <td>31-60 Days</td>\n",
       "        <td>392</td>\n",
       "    </tr>\n",
       "    <tr>\n",
       "        <td>61-90 Days</td>\n",
       "        <td>202</td>\n",
       "    </tr>\n",
       "    <tr>\n",
       "        <td>91-180 Days</td>\n",
       "        <td>274</td>\n",
       "    </tr>\n",
       "    <tr>\n",
       "        <td>181-365 Days</td>\n",
       "        <td>310</td>\n",
       "    </tr>\n",
       "    <tr>\n",
       "        <td>Over a Year</td>\n",
       "        <td>114</td>\n",
       "    </tr>\n",
       "</table>"
      ],
      "text/plain": [
       "[('One Day', 268),\n",
       " ('2-7 Days', 1055),\n",
       " ('8-30 Days', 1128),\n",
       " ('31-60 Days', 392),\n",
       " ('61-90 Days', 202),\n",
       " ('91-180 Days', 274),\n",
       " ('181-365 Days', 310),\n",
       " ('Over a Year', 114)]"
      ]
     },
     "execution_count": 20,
     "metadata": {},
     "output_type": "execute_result"
    }
   ],
   "source": [
    "%%sql\n",
    "\n",
    "SELECT \n",
    "    Completion.TimeToFinish, \n",
    "    COUNT(Completion.TimeToFinish) AS CompletionTime\n",
    "FROM \n",
    "    (SELECT \n",
    "            Start.DogID,\n",
    "            Start.Start_Time,\n",
    "            mEndTime.EndTime AS End_Time,\n",
    "            DATEDIFF(mEndTime.EndTime, Start.Start_Time) + 1 AS DaysEngaged,\n",
    "            CASE \n",
    "                WHEN DATEDIFF(mEndTime.EndTime, Start.Start_Time) + 1 = 1 THEN \"One Day\"\n",
    "                WHEN DATEDIFF(mEndTime.EndTime, Start.Start_Time) + 1 BETWEEN 2 AND 7 THEN \"2-7 Days\"\n",
    "                WHEN DATEDIFF(mEndTime.EndTime, Start.Start_Time) + 1 BETWEEN 8 AND 30 THEN \"8-30 Days\"\n",
    "                WHEN DATEDIFF(mEndTime.EndTime, Start.Start_Time) + 1 BETWEEN 31 AND 60 THEN \"31-60 Days\"\n",
    "                WHEN DATEDIFF(mEndTime.EndTime, Start.Start_Time) + 1 BETWEEN 61 AND 90 THEN \"61-90 Days\"            \n",
    "                WHEN DATEDIFF(mEndTime.EndTime, Start.Start_Time) + 1 BETWEEN 91 AND 180 THEN \"91-180 Days\"\n",
    "                WHEN DATEDIFF(mEndTime.EndTime, Start.Start_Time) + 1 BETWEEN 181 AND 365 THEN \"181-365 Days\"            \n",
    "                WHEN DATEDIFF(mEndTime.EndTime, Start.Start_Time) + 1 > 365 THEN \"Over a Year\"\n",
    "            END AS TimeToFinish\n",
    "                    FROM        \n",
    "                        (SELECT \n",
    "                                DISTINCT(d.dog_guid) AS DogID, \n",
    "                                MIN(c.created_at) AS Start_Time\n",
    "                         FROM \n",
    "                                dogs d\n",
    "                                    LEFT JOIN users u \n",
    "                                        ON d.user_guid = u.user_guid\n",
    "                                    LEFT JOIN complete_tests c \n",
    "                                        ON c.dog_guid = d.dog_guid\n",
    "                         WHERE \n",
    "                                ((d.exclude = 0 OR d.exclude IS NULL) \n",
    "                                   AND \n",
    "                                (u.exclude = 0 OR u.exclude IS NULL)\n",
    "                                   AND\n",
    "                                u.user_guid IS NOT NULL\n",
    "                                   AND\n",
    "                                d.dimension IS NOT NULL AND d.dimension <> \"\")\n",
    "                         GROUP BY \n",
    "                                DogID\n",
    "                         HAVING      \n",
    "                                COUNT(c.test_name) >= 19) AS Start\n",
    "                                LEFT JOIN \n",
    "                                    (SELECT\n",
    "                                        DISTINCT(c.dog_guid) AS mDogID, \n",
    "                                        MAX(c.created_at) AS EndTime\n",
    "                                     FROM complete_tests c\n",
    "                                     GROUP BY c.dog_guid) AS mEndTime\n",
    "                                ON \n",
    "                                         (mEndTime.mDogID = Start.DogID)\n",
    "                                WHERE \n",
    "                                         DATEDIFF(mEndTime.EndTime, Start.Start_Time) + 1\n",
    "                                ORDER BY \n",
    "                                         DaysEngaged DESC) AS Completion\n",
    "                        GROUP BY \n",
    "                                         Completion.TimeToFinish\n",
    "                        ORDER BY \n",
    "                                CASE\n",
    "                                    WHEN Completion.TimeToFinish = \"One Day\" THEN 1\n",
    "                                    WHEN Completion.TimeToFinish = \"2-7 Days\" THEN 2\n",
    "                                    WHEN Completion.TimeToFinish = \"8-30 Days\" THEN 3\n",
    "                                    WHEN Completion.TimeToFinish = \"31-60 Days\" THEN 4\n",
    "                                    WHEN Completion.TimeToFinish = \"61-90 Days\" THEN 5            \n",
    "                                    WHEN Completion.TimeToFinish = \"91-180 Days\" THEN 6\n",
    "                                    WHEN Completion.TimeToFinish = \"181-365 Days\" THEN 7            \n",
    "                                    WHEN Completion.TimeToFinish = \"Over a Year\" THEN 8\n",
    "                                END;"
   ]
  },
  {
   "cell_type": "markdown",
   "metadata": {},
   "source": [
    "### Completion time statistics \n",
    "What are the minimum, maximum and average completion times? Do completion times appear to be normally distributed?  "
   ]
  },
  {
   "cell_type": "code",
   "execution_count": 17,
   "metadata": {
    "collapsed": false
   },
   "outputs": [
    {
     "name": "stdout",
     "output_type": "stream",
     "text": [
      "1 rows affected.\n"
     ]
    },
    {
     "data": {
      "text/html": [
       "<table>\n",
       "    <tr>\n",
       "        <th>Minimum</th>\n",
       "        <th>Maximum</th>\n",
       "        <th>Average</th>\n",
       "    </tr>\n",
       "    <tr>\n",
       "        <td>1</td>\n",
       "        <td>961</td>\n",
       "        <td>61.9446</td>\n",
       "    </tr>\n",
       "</table>"
      ],
      "text/plain": [
       "[(1, 961, Decimal('61.9446'))]"
      ]
     },
     "execution_count": 17,
     "metadata": {},
     "output_type": "execute_result"
    }
   ],
   "source": [
    "%%sql\n",
    "\n",
    "SELECT MIN(UserTime.DaysEngaged) AS Minimum, MAX(UserTime.DaysEngaged) AS Maximum, AVG(UserTime.DaysEngaged) AS Average\n",
    "FROM\n",
    "(SELECT \n",
    "        Start.DogID,\n",
    "        Start.Start_Time,\n",
    "        mEndTime.EndTime AS End_Time,\n",
    "        DATEDIFF(mEndTime.EndTime, Start.Start_Time) + 1 AS DaysEngaged\n",
    "FROM        \n",
    "        (SELECT \n",
    "            DISTINCT(d.dog_guid) AS DogID, \n",
    "            MIN(c.created_at) AS Start_Time\n",
    "        FROM \n",
    "            dogs d\n",
    "                LEFT JOIN users u \n",
    "                    ON d.user_guid = u.user_guid\n",
    "                LEFT JOIN complete_tests c \n",
    "                    ON c.dog_guid = d.dog_guid\n",
    "        WHERE \n",
    "            ((d.exclude = 0 OR d.exclude IS NULL) \n",
    "               AND \n",
    "            (u.exclude = 0 OR u.exclude IS NULL)\n",
    "               AND\n",
    "            u.user_guid IS NOT NULL\n",
    "               AND\n",
    "            d.dimension IS NOT NULL)\n",
    "        GROUP BY \n",
    "                DogID\n",
    "        HAVING      \n",
    "                COUNT(c.test_name) >= 20) AS Start\n",
    "        LEFT JOIN \n",
    "            (SELECT\n",
    "                DISTINCT(c.dog_guid) AS mDogID, \n",
    "                MAX(c.created_at) AS EndTime\n",
    "                FROM complete_tests c\n",
    "                GROUP BY c.dog_guid) AS mEndTime\n",
    "        ON (mEndTime.mDogID = Start.DogID)) AS UserTime;"
   ]
  },
  {
   "cell_type": "markdown",
   "metadata": {
    "collapsed": true
   },
   "source": []
  }
 ],
 "metadata": {
  "kernelspec": {
   "display_name": "Python 3",
   "language": "python",
   "name": "python3"
  },
  "language_info": {
   "codemirror_mode": {
    "name": "ipython",
    "version": 3
   },
   "file_extension": ".py",
   "mimetype": "text/x-python",
   "name": "python",
   "nbconvert_exporter": "python",
   "pygments_lexer": "ipython3",
   "version": "3.5.2"
  }
 },
 "nbformat": 4,
 "nbformat_minor": 2
}
